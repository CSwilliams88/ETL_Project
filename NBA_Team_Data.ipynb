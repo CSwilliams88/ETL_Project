{
 "cells": [
  {
   "cell_type": "code",
   "execution_count": 49,
   "metadata": {},
   "outputs": [],
   "source": [
    "import pandas as pd"
   ]
  },
  {
   "cell_type": "code",
   "execution_count": 50,
   "metadata": {},
   "outputs": [],
   "source": [
    "#Bring in csv\n",
    "team_data = \"Resources/nba_team_stats_00_to_18.csv\""
   ]
  },
  {
   "cell_type": "code",
   "execution_count": 51,
   "metadata": {},
   "outputs": [
    {
     "output_type": "execute_result",
     "data": {
      "text/plain": [
       "     Unnamed: 0                 TEAM  GP   W   L   WIN%   MIN    PTS   FGM  \\\n",
       "0             0        Atlanta Hawks  82  29  53  0.354  48.4  113.3  41.4   \n",
       "1             1       Boston Celtics  82  49  33  0.598  48.2  112.4  42.1   \n",
       "2             2        Brooklyn Nets  82  42  40  0.512  48.7  112.2  40.3   \n",
       "3             3    Charlotte Hornets  82  39  43  0.476  48.4  110.7  40.2   \n",
       "4             4        Chicago Bulls  82  22  60  0.268  48.5  104.9  39.8   \n",
       "..          ...                  ...  ..  ..  ..    ...   ...    ...   ...   \n",
       "561         561  Seattle SuperSonics  82  44  38  0.537  48.3   97.3  36.9   \n",
       "562         562      Toronto Raptors  82  47  35  0.573  48.7   97.6  37.2   \n",
       "563         563            Utah Jazz  82  53  29  0.646  48.2   97.1  36.1   \n",
       "564         564  Vancouver Grizzlies  82  23  59  0.280  48.2   91.7  35.0   \n",
       "565         565   Washington Wizards  82  19  63  0.232  48.0   93.2  34.5   \n",
       "\n",
       "      FGA  ...   REB   AST   TOV  STL  BLK  BLKA    PF   PFD  +/-   SEASON  \n",
       "0    91.8  ...  46.1  25.8  17.0  8.2  5.1   5.5  23.6  22.2 -6.0  2018-19  \n",
       "1    90.5  ...  44.5  26.3  12.8  8.6  5.3   3.9  20.4  19.5  4.4  2018-19  \n",
       "2    89.7  ...  46.6  23.8  15.1  6.6  4.1   5.3  21.5  22.0 -0.1  2018-19  \n",
       "3    89.8  ...  43.8  23.2  12.2  7.2  4.9   6.0  18.9  20.6 -1.1  2018-19  \n",
       "4    87.9  ...  42.9  21.9  14.1  7.4  4.3   5.8  20.3  18.7 -8.4  2018-19  \n",
       "..    ...  ...   ...   ...   ...  ...  ...   ...   ...   ...  ...      ...  \n",
       "561  81.1  ...  41.7  21.9  15.3  8.0  5.0   6.2  21.1   0.1  0.0  2000-01  \n",
       "562  85.0  ...  44.5  24.4  13.2  7.3  6.3   5.4  21.3   0.1  2.3  2000-01  \n",
       "563  76.7  ...  40.6  25.7  15.8  8.1  5.6   5.5  25.7   0.1  4.7  2000-01  \n",
       "564  79.7  ...  40.5  23.2  15.7  7.1  4.4   5.8  21.1   0.1 -5.7  2000-01  \n",
       "565  78.7  ...  41.3  20.1  17.0  7.7  4.7   6.2  23.3   0.1 -6.7  2000-01  \n",
       "\n",
       "[566 rows x 29 columns]"
      ],
      "text/html": "<div>\n<style scoped>\n    .dataframe tbody tr th:only-of-type {\n        vertical-align: middle;\n    }\n\n    .dataframe tbody tr th {\n        vertical-align: top;\n    }\n\n    .dataframe thead th {\n        text-align: right;\n    }\n</style>\n<table border=\"1\" class=\"dataframe\">\n  <thead>\n    <tr style=\"text-align: right;\">\n      <th></th>\n      <th>Unnamed: 0</th>\n      <th>TEAM</th>\n      <th>GP</th>\n      <th>W</th>\n      <th>L</th>\n      <th>WIN%</th>\n      <th>MIN</th>\n      <th>PTS</th>\n      <th>FGM</th>\n      <th>FGA</th>\n      <th>...</th>\n      <th>REB</th>\n      <th>AST</th>\n      <th>TOV</th>\n      <th>STL</th>\n      <th>BLK</th>\n      <th>BLKA</th>\n      <th>PF</th>\n      <th>PFD</th>\n      <th>+/-</th>\n      <th>SEASON</th>\n    </tr>\n  </thead>\n  <tbody>\n    <tr>\n      <th>0</th>\n      <td>0</td>\n      <td>Atlanta Hawks</td>\n      <td>82</td>\n      <td>29</td>\n      <td>53</td>\n      <td>0.354</td>\n      <td>48.4</td>\n      <td>113.3</td>\n      <td>41.4</td>\n      <td>91.8</td>\n      <td>...</td>\n      <td>46.1</td>\n      <td>25.8</td>\n      <td>17.0</td>\n      <td>8.2</td>\n      <td>5.1</td>\n      <td>5.5</td>\n      <td>23.6</td>\n      <td>22.2</td>\n      <td>-6.0</td>\n      <td>2018-19</td>\n    </tr>\n    <tr>\n      <th>1</th>\n      <td>1</td>\n      <td>Boston Celtics</td>\n      <td>82</td>\n      <td>49</td>\n      <td>33</td>\n      <td>0.598</td>\n      <td>48.2</td>\n      <td>112.4</td>\n      <td>42.1</td>\n      <td>90.5</td>\n      <td>...</td>\n      <td>44.5</td>\n      <td>26.3</td>\n      <td>12.8</td>\n      <td>8.6</td>\n      <td>5.3</td>\n      <td>3.9</td>\n      <td>20.4</td>\n      <td>19.5</td>\n      <td>4.4</td>\n      <td>2018-19</td>\n    </tr>\n    <tr>\n      <th>2</th>\n      <td>2</td>\n      <td>Brooklyn Nets</td>\n      <td>82</td>\n      <td>42</td>\n      <td>40</td>\n      <td>0.512</td>\n      <td>48.7</td>\n      <td>112.2</td>\n      <td>40.3</td>\n      <td>89.7</td>\n      <td>...</td>\n      <td>46.6</td>\n      <td>23.8</td>\n      <td>15.1</td>\n      <td>6.6</td>\n      <td>4.1</td>\n      <td>5.3</td>\n      <td>21.5</td>\n      <td>22.0</td>\n      <td>-0.1</td>\n      <td>2018-19</td>\n    </tr>\n    <tr>\n      <th>3</th>\n      <td>3</td>\n      <td>Charlotte Hornets</td>\n      <td>82</td>\n      <td>39</td>\n      <td>43</td>\n      <td>0.476</td>\n      <td>48.4</td>\n      <td>110.7</td>\n      <td>40.2</td>\n      <td>89.8</td>\n      <td>...</td>\n      <td>43.8</td>\n      <td>23.2</td>\n      <td>12.2</td>\n      <td>7.2</td>\n      <td>4.9</td>\n      <td>6.0</td>\n      <td>18.9</td>\n      <td>20.6</td>\n      <td>-1.1</td>\n      <td>2018-19</td>\n    </tr>\n    <tr>\n      <th>4</th>\n      <td>4</td>\n      <td>Chicago Bulls</td>\n      <td>82</td>\n      <td>22</td>\n      <td>60</td>\n      <td>0.268</td>\n      <td>48.5</td>\n      <td>104.9</td>\n      <td>39.8</td>\n      <td>87.9</td>\n      <td>...</td>\n      <td>42.9</td>\n      <td>21.9</td>\n      <td>14.1</td>\n      <td>7.4</td>\n      <td>4.3</td>\n      <td>5.8</td>\n      <td>20.3</td>\n      <td>18.7</td>\n      <td>-8.4</td>\n      <td>2018-19</td>\n    </tr>\n    <tr>\n      <th>...</th>\n      <td>...</td>\n      <td>...</td>\n      <td>...</td>\n      <td>...</td>\n      <td>...</td>\n      <td>...</td>\n      <td>...</td>\n      <td>...</td>\n      <td>...</td>\n      <td>...</td>\n      <td>...</td>\n      <td>...</td>\n      <td>...</td>\n      <td>...</td>\n      <td>...</td>\n      <td>...</td>\n      <td>...</td>\n      <td>...</td>\n      <td>...</td>\n      <td>...</td>\n      <td>...</td>\n    </tr>\n    <tr>\n      <th>561</th>\n      <td>561</td>\n      <td>Seattle SuperSonics</td>\n      <td>82</td>\n      <td>44</td>\n      <td>38</td>\n      <td>0.537</td>\n      <td>48.3</td>\n      <td>97.3</td>\n      <td>36.9</td>\n      <td>81.1</td>\n      <td>...</td>\n      <td>41.7</td>\n      <td>21.9</td>\n      <td>15.3</td>\n      <td>8.0</td>\n      <td>5.0</td>\n      <td>6.2</td>\n      <td>21.1</td>\n      <td>0.1</td>\n      <td>0.0</td>\n      <td>2000-01</td>\n    </tr>\n    <tr>\n      <th>562</th>\n      <td>562</td>\n      <td>Toronto Raptors</td>\n      <td>82</td>\n      <td>47</td>\n      <td>35</td>\n      <td>0.573</td>\n      <td>48.7</td>\n      <td>97.6</td>\n      <td>37.2</td>\n      <td>85.0</td>\n      <td>...</td>\n      <td>44.5</td>\n      <td>24.4</td>\n      <td>13.2</td>\n      <td>7.3</td>\n      <td>6.3</td>\n      <td>5.4</td>\n      <td>21.3</td>\n      <td>0.1</td>\n      <td>2.3</td>\n      <td>2000-01</td>\n    </tr>\n    <tr>\n      <th>563</th>\n      <td>563</td>\n      <td>Utah Jazz</td>\n      <td>82</td>\n      <td>53</td>\n      <td>29</td>\n      <td>0.646</td>\n      <td>48.2</td>\n      <td>97.1</td>\n      <td>36.1</td>\n      <td>76.7</td>\n      <td>...</td>\n      <td>40.6</td>\n      <td>25.7</td>\n      <td>15.8</td>\n      <td>8.1</td>\n      <td>5.6</td>\n      <td>5.5</td>\n      <td>25.7</td>\n      <td>0.1</td>\n      <td>4.7</td>\n      <td>2000-01</td>\n    </tr>\n    <tr>\n      <th>564</th>\n      <td>564</td>\n      <td>Vancouver Grizzlies</td>\n      <td>82</td>\n      <td>23</td>\n      <td>59</td>\n      <td>0.280</td>\n      <td>48.2</td>\n      <td>91.7</td>\n      <td>35.0</td>\n      <td>79.7</td>\n      <td>...</td>\n      <td>40.5</td>\n      <td>23.2</td>\n      <td>15.7</td>\n      <td>7.1</td>\n      <td>4.4</td>\n      <td>5.8</td>\n      <td>21.1</td>\n      <td>0.1</td>\n      <td>-5.7</td>\n      <td>2000-01</td>\n    </tr>\n    <tr>\n      <th>565</th>\n      <td>565</td>\n      <td>Washington Wizards</td>\n      <td>82</td>\n      <td>19</td>\n      <td>63</td>\n      <td>0.232</td>\n      <td>48.0</td>\n      <td>93.2</td>\n      <td>34.5</td>\n      <td>78.7</td>\n      <td>...</td>\n      <td>41.3</td>\n      <td>20.1</td>\n      <td>17.0</td>\n      <td>7.7</td>\n      <td>4.7</td>\n      <td>6.2</td>\n      <td>23.3</td>\n      <td>0.1</td>\n      <td>-6.7</td>\n      <td>2000-01</td>\n    </tr>\n  </tbody>\n</table>\n<p>566 rows × 29 columns</p>\n</div>"
     },
     "metadata": {},
     "execution_count": 51
    }
   ],
   "source": [
    "#Extract csv into a Dataframe\n",
    "team_df = pd.read_csv(team_data, encoding=\"utf-8\")\n",
    "team_df"
   ]
  },
  {
   "cell_type": "code",
   "execution_count": 52,
   "metadata": {},
   "outputs": [
    {
     "output_type": "execute_result",
     "data": {
      "text/plain": [
       "                    TEAM   SEASON   WIN%    PTS   FG%   FT%  +/-\n",
       "0          Atlanta Hawks  2018-19  0.354  113.3  45.1  75.2 -6.0\n",
       "1         Boston Celtics  2018-19  0.598  112.4  46.5  80.2  4.4\n",
       "2          Brooklyn Nets  2018-19  0.512  112.2  44.9  74.5 -0.1\n",
       "3      Charlotte Hornets  2018-19  0.476  110.7  44.8  79.7 -1.1\n",
       "4          Chicago Bulls  2018-19  0.268  104.9  45.3  78.3 -8.4\n",
       "..                   ...      ...    ...    ...   ...   ...  ...\n",
       "561  Seattle SuperSonics  2000-01  0.537   97.3  45.6  73.2  0.0\n",
       "562      Toronto Raptors  2000-01  0.573   97.6  43.7  74.7  2.3\n",
       "563            Utah Jazz  2000-01  0.646   97.1  47.1  75.2  4.7\n",
       "564  Vancouver Grizzlies  2000-01  0.280   91.7  43.9  77.0 -5.7\n",
       "565   Washington Wizards  2000-01  0.232   93.2  43.9  75.9 -6.7\n",
       "\n",
       "[566 rows x 7 columns]"
      ],
      "text/html": "<div>\n<style scoped>\n    .dataframe tbody tr th:only-of-type {\n        vertical-align: middle;\n    }\n\n    .dataframe tbody tr th {\n        vertical-align: top;\n    }\n\n    .dataframe thead th {\n        text-align: right;\n    }\n</style>\n<table border=\"1\" class=\"dataframe\">\n  <thead>\n    <tr style=\"text-align: right;\">\n      <th></th>\n      <th>TEAM</th>\n      <th>SEASON</th>\n      <th>WIN%</th>\n      <th>PTS</th>\n      <th>FG%</th>\n      <th>FT%</th>\n      <th>+/-</th>\n    </tr>\n  </thead>\n  <tbody>\n    <tr>\n      <th>0</th>\n      <td>Atlanta Hawks</td>\n      <td>2018-19</td>\n      <td>0.354</td>\n      <td>113.3</td>\n      <td>45.1</td>\n      <td>75.2</td>\n      <td>-6.0</td>\n    </tr>\n    <tr>\n      <th>1</th>\n      <td>Boston Celtics</td>\n      <td>2018-19</td>\n      <td>0.598</td>\n      <td>112.4</td>\n      <td>46.5</td>\n      <td>80.2</td>\n      <td>4.4</td>\n    </tr>\n    <tr>\n      <th>2</th>\n      <td>Brooklyn Nets</td>\n      <td>2018-19</td>\n      <td>0.512</td>\n      <td>112.2</td>\n      <td>44.9</td>\n      <td>74.5</td>\n      <td>-0.1</td>\n    </tr>\n    <tr>\n      <th>3</th>\n      <td>Charlotte Hornets</td>\n      <td>2018-19</td>\n      <td>0.476</td>\n      <td>110.7</td>\n      <td>44.8</td>\n      <td>79.7</td>\n      <td>-1.1</td>\n    </tr>\n    <tr>\n      <th>4</th>\n      <td>Chicago Bulls</td>\n      <td>2018-19</td>\n      <td>0.268</td>\n      <td>104.9</td>\n      <td>45.3</td>\n      <td>78.3</td>\n      <td>-8.4</td>\n    </tr>\n    <tr>\n      <th>...</th>\n      <td>...</td>\n      <td>...</td>\n      <td>...</td>\n      <td>...</td>\n      <td>...</td>\n      <td>...</td>\n      <td>...</td>\n    </tr>\n    <tr>\n      <th>561</th>\n      <td>Seattle SuperSonics</td>\n      <td>2000-01</td>\n      <td>0.537</td>\n      <td>97.3</td>\n      <td>45.6</td>\n      <td>73.2</td>\n      <td>0.0</td>\n    </tr>\n    <tr>\n      <th>562</th>\n      <td>Toronto Raptors</td>\n      <td>2000-01</td>\n      <td>0.573</td>\n      <td>97.6</td>\n      <td>43.7</td>\n      <td>74.7</td>\n      <td>2.3</td>\n    </tr>\n    <tr>\n      <th>563</th>\n      <td>Utah Jazz</td>\n      <td>2000-01</td>\n      <td>0.646</td>\n      <td>97.1</td>\n      <td>47.1</td>\n      <td>75.2</td>\n      <td>4.7</td>\n    </tr>\n    <tr>\n      <th>564</th>\n      <td>Vancouver Grizzlies</td>\n      <td>2000-01</td>\n      <td>0.280</td>\n      <td>91.7</td>\n      <td>43.9</td>\n      <td>77.0</td>\n      <td>-5.7</td>\n    </tr>\n    <tr>\n      <th>565</th>\n      <td>Washington Wizards</td>\n      <td>2000-01</td>\n      <td>0.232</td>\n      <td>93.2</td>\n      <td>43.9</td>\n      <td>75.9</td>\n      <td>-6.7</td>\n    </tr>\n  </tbody>\n</table>\n<p>566 rows × 7 columns</p>\n</div>"
     },
     "metadata": {},
     "execution_count": 52
    }
   ],
   "source": [
    "#Taking the columns with relevant statistics and creating a new dataframe\n",
    "new_team_df = team_df[[\"TEAM\", \"SEASON\", \"WIN%\", \"PTS\", \"FG%\", \"FT%\", \"+/-\"]]\n",
    "new_team_df                       "
   ]
  },
  {
   "cell_type": "code",
   "execution_count": 53,
   "metadata": {},
   "outputs": [
    {
     "output_type": "execute_result",
     "data": {
      "text/plain": [
       "                    TEAM   SEASON   WIN%    PTS   FG%   FT%  \\\n",
       "0          Atlanta Hawks  2018-19  0.354  113.3  45.1  75.2   \n",
       "1         Boston Celtics  2018-19  0.598  112.4  46.5  80.2   \n",
       "2          Brooklyn Nets  2018-19  0.512  112.2  44.9  74.5   \n",
       "3      Charlotte Hornets  2018-19  0.476  110.7  44.8  79.7   \n",
       "4          Chicago Bulls  2018-19  0.268  104.9  45.3  78.3   \n",
       "..                   ...      ...    ...    ...   ...   ...   \n",
       "561  Seattle SuperSonics  2000-01  0.537   97.3  45.6  73.2   \n",
       "562      Toronto Raptors  2000-01  0.573   97.6  43.7  74.7   \n",
       "563            Utah Jazz  2000-01  0.646   97.1  47.1  75.2   \n",
       "564  Vancouver Grizzlies  2000-01  0.280   91.7  43.9  77.0   \n",
       "565   Washington Wizards  2000-01  0.232   93.2  43.9  75.9   \n",
       "\n",
       "     Personal Fouls +/-  \n",
       "0                  -6.0  \n",
       "1                   4.4  \n",
       "2                  -0.1  \n",
       "3                  -1.1  \n",
       "4                  -8.4  \n",
       "..                  ...  \n",
       "561                 0.0  \n",
       "562                 2.3  \n",
       "563                 4.7  \n",
       "564                -5.7  \n",
       "565                -6.7  \n",
       "\n",
       "[566 rows x 7 columns]"
      ],
      "text/html": "<div>\n<style scoped>\n    .dataframe tbody tr th:only-of-type {\n        vertical-align: middle;\n    }\n\n    .dataframe tbody tr th {\n        vertical-align: top;\n    }\n\n    .dataframe thead th {\n        text-align: right;\n    }\n</style>\n<table border=\"1\" class=\"dataframe\">\n  <thead>\n    <tr style=\"text-align: right;\">\n      <th></th>\n      <th>TEAM</th>\n      <th>SEASON</th>\n      <th>WIN%</th>\n      <th>PTS</th>\n      <th>FG%</th>\n      <th>FT%</th>\n      <th>Personal Fouls +/-</th>\n    </tr>\n  </thead>\n  <tbody>\n    <tr>\n      <th>0</th>\n      <td>Atlanta Hawks</td>\n      <td>2018-19</td>\n      <td>0.354</td>\n      <td>113.3</td>\n      <td>45.1</td>\n      <td>75.2</td>\n      <td>-6.0</td>\n    </tr>\n    <tr>\n      <th>1</th>\n      <td>Boston Celtics</td>\n      <td>2018-19</td>\n      <td>0.598</td>\n      <td>112.4</td>\n      <td>46.5</td>\n      <td>80.2</td>\n      <td>4.4</td>\n    </tr>\n    <tr>\n      <th>2</th>\n      <td>Brooklyn Nets</td>\n      <td>2018-19</td>\n      <td>0.512</td>\n      <td>112.2</td>\n      <td>44.9</td>\n      <td>74.5</td>\n      <td>-0.1</td>\n    </tr>\n    <tr>\n      <th>3</th>\n      <td>Charlotte Hornets</td>\n      <td>2018-19</td>\n      <td>0.476</td>\n      <td>110.7</td>\n      <td>44.8</td>\n      <td>79.7</td>\n      <td>-1.1</td>\n    </tr>\n    <tr>\n      <th>4</th>\n      <td>Chicago Bulls</td>\n      <td>2018-19</td>\n      <td>0.268</td>\n      <td>104.9</td>\n      <td>45.3</td>\n      <td>78.3</td>\n      <td>-8.4</td>\n    </tr>\n    <tr>\n      <th>...</th>\n      <td>...</td>\n      <td>...</td>\n      <td>...</td>\n      <td>...</td>\n      <td>...</td>\n      <td>...</td>\n      <td>...</td>\n    </tr>\n    <tr>\n      <th>561</th>\n      <td>Seattle SuperSonics</td>\n      <td>2000-01</td>\n      <td>0.537</td>\n      <td>97.3</td>\n      <td>45.6</td>\n      <td>73.2</td>\n      <td>0.0</td>\n    </tr>\n    <tr>\n      <th>562</th>\n      <td>Toronto Raptors</td>\n      <td>2000-01</td>\n      <td>0.573</td>\n      <td>97.6</td>\n      <td>43.7</td>\n      <td>74.7</td>\n      <td>2.3</td>\n    </tr>\n    <tr>\n      <th>563</th>\n      <td>Utah Jazz</td>\n      <td>2000-01</td>\n      <td>0.646</td>\n      <td>97.1</td>\n      <td>47.1</td>\n      <td>75.2</td>\n      <td>4.7</td>\n    </tr>\n    <tr>\n      <th>564</th>\n      <td>Vancouver Grizzlies</td>\n      <td>2000-01</td>\n      <td>0.280</td>\n      <td>91.7</td>\n      <td>43.9</td>\n      <td>77.0</td>\n      <td>-5.7</td>\n    </tr>\n    <tr>\n      <th>565</th>\n      <td>Washington Wizards</td>\n      <td>2000-01</td>\n      <td>0.232</td>\n      <td>93.2</td>\n      <td>43.9</td>\n      <td>75.9</td>\n      <td>-6.7</td>\n    </tr>\n  </tbody>\n</table>\n<p>566 rows × 7 columns</p>\n</div>"
     },
     "metadata": {},
     "execution_count": 53
    }
   ],
   "source": [
    "#Renaming column \"=/-\" so that people understand what it is denoting\n",
    "new_team_df = new_team_df.rename(columns = {\"+/-\": \"Personal Fouls +/-\"})\n",
    "new_team_df"
   ]
  },
  {
   "cell_type": "code",
   "execution_count": 54,
   "metadata": {},
   "outputs": [],
   "source": [
    "#Drop null values (best practice)\n",
    "new_team_df = new_team_df.dropna(how=\"any\")"
   ]
  },
  {
   "cell_type": "code",
   "execution_count": 55,
   "metadata": {},
   "outputs": [
    {
     "output_type": "execute_result",
     "data": {
      "text/plain": [
       "                    TEAM   SEASON   WIN%    PTS   FG%   FT%  \\\n",
       "0          Atlanta Hawks  2018-19  0.354  113.3  45.1  75.2   \n",
       "1         Boston Celtics  2018-19  0.598  112.4  46.5  80.2   \n",
       "2          Brooklyn Nets  2018-19  0.512  112.2  44.9  74.5   \n",
       "3      Charlotte Hornets  2018-19  0.476  110.7  44.8  79.7   \n",
       "4          Chicago Bulls  2018-19  0.268  104.9  45.3  78.3   \n",
       "..                   ...      ...    ...    ...   ...   ...   \n",
       "561  Seattle SuperSonics  2000-01  0.537   97.3  45.6  73.2   \n",
       "562      Toronto Raptors  2000-01  0.573   97.6  43.7  74.7   \n",
       "563            Utah Jazz  2000-01  0.646   97.1  47.1  75.2   \n",
       "564  Vancouver Grizzlies  2000-01  0.280   91.7  43.9  77.0   \n",
       "565   Washington Wizards  2000-01  0.232   93.2  43.9  75.9   \n",
       "\n",
       "     Personal Fouls +/-  \n",
       "0                  -6.0  \n",
       "1                   4.4  \n",
       "2                  -0.1  \n",
       "3                  -1.1  \n",
       "4                  -8.4  \n",
       "..                  ...  \n",
       "561                 0.0  \n",
       "562                 2.3  \n",
       "563                 4.7  \n",
       "564                -5.7  \n",
       "565                -6.7  \n",
       "\n",
       "[566 rows x 7 columns]"
      ],
      "text/html": "<div>\n<style scoped>\n    .dataframe tbody tr th:only-of-type {\n        vertical-align: middle;\n    }\n\n    .dataframe tbody tr th {\n        vertical-align: top;\n    }\n\n    .dataframe thead th {\n        text-align: right;\n    }\n</style>\n<table border=\"1\" class=\"dataframe\">\n  <thead>\n    <tr style=\"text-align: right;\">\n      <th></th>\n      <th>TEAM</th>\n      <th>SEASON</th>\n      <th>WIN%</th>\n      <th>PTS</th>\n      <th>FG%</th>\n      <th>FT%</th>\n      <th>Personal Fouls +/-</th>\n    </tr>\n  </thead>\n  <tbody>\n    <tr>\n      <th>0</th>\n      <td>Atlanta Hawks</td>\n      <td>2018-19</td>\n      <td>0.354</td>\n      <td>113.3</td>\n      <td>45.1</td>\n      <td>75.2</td>\n      <td>-6.0</td>\n    </tr>\n    <tr>\n      <th>1</th>\n      <td>Boston Celtics</td>\n      <td>2018-19</td>\n      <td>0.598</td>\n      <td>112.4</td>\n      <td>46.5</td>\n      <td>80.2</td>\n      <td>4.4</td>\n    </tr>\n    <tr>\n      <th>2</th>\n      <td>Brooklyn Nets</td>\n      <td>2018-19</td>\n      <td>0.512</td>\n      <td>112.2</td>\n      <td>44.9</td>\n      <td>74.5</td>\n      <td>-0.1</td>\n    </tr>\n    <tr>\n      <th>3</th>\n      <td>Charlotte Hornets</td>\n      <td>2018-19</td>\n      <td>0.476</td>\n      <td>110.7</td>\n      <td>44.8</td>\n      <td>79.7</td>\n      <td>-1.1</td>\n    </tr>\n    <tr>\n      <th>4</th>\n      <td>Chicago Bulls</td>\n      <td>2018-19</td>\n      <td>0.268</td>\n      <td>104.9</td>\n      <td>45.3</td>\n      <td>78.3</td>\n      <td>-8.4</td>\n    </tr>\n    <tr>\n      <th>...</th>\n      <td>...</td>\n      <td>...</td>\n      <td>...</td>\n      <td>...</td>\n      <td>...</td>\n      <td>...</td>\n      <td>...</td>\n    </tr>\n    <tr>\n      <th>561</th>\n      <td>Seattle SuperSonics</td>\n      <td>2000-01</td>\n      <td>0.537</td>\n      <td>97.3</td>\n      <td>45.6</td>\n      <td>73.2</td>\n      <td>0.0</td>\n    </tr>\n    <tr>\n      <th>562</th>\n      <td>Toronto Raptors</td>\n      <td>2000-01</td>\n      <td>0.573</td>\n      <td>97.6</td>\n      <td>43.7</td>\n      <td>74.7</td>\n      <td>2.3</td>\n    </tr>\n    <tr>\n      <th>563</th>\n      <td>Utah Jazz</td>\n      <td>2000-01</td>\n      <td>0.646</td>\n      <td>97.1</td>\n      <td>47.1</td>\n      <td>75.2</td>\n      <td>4.7</td>\n    </tr>\n    <tr>\n      <th>564</th>\n      <td>Vancouver Grizzlies</td>\n      <td>2000-01</td>\n      <td>0.280</td>\n      <td>91.7</td>\n      <td>43.9</td>\n      <td>77.0</td>\n      <td>-5.7</td>\n    </tr>\n    <tr>\n      <th>565</th>\n      <td>Washington Wizards</td>\n      <td>2000-01</td>\n      <td>0.232</td>\n      <td>93.2</td>\n      <td>43.9</td>\n      <td>75.9</td>\n      <td>-6.7</td>\n    </tr>\n  </tbody>\n</table>\n<p>566 rows × 7 columns</p>\n</div>"
     },
     "metadata": {},
     "execution_count": 55
    }
   ],
   "source": [
    "new_team_df"
   ]
  },
  {
   "cell_type": "code",
   "execution_count": 56,
   "metadata": {},
   "outputs": [
    {
     "output_type": "execute_result",
     "data": {
      "text/plain": [
       "                    TEAM   SEASON   WIN%    PTS   FG%   FT%  \\\n",
       "0          Atlanta Hawks  2018-19  0.354  113.3  45.1  75.2   \n",
       "1         Boston Celtics  2018-19  0.598  112.4  46.5  80.2   \n",
       "2          Brooklyn Nets  2018-19  0.512  112.2  44.9  74.5   \n",
       "3      Charlotte Hornets  2018-19  0.476  110.7  44.8  79.7   \n",
       "4          Chicago Bulls  2018-19  0.268  104.9  45.3  78.3   \n",
       "..                   ...      ...    ...    ...   ...   ...   \n",
       "561  Seattle SuperSonics  2000-01  0.537   97.3  45.6  73.2   \n",
       "562      Toronto Raptors  2000-01  0.573   97.6  43.7  74.7   \n",
       "563            Utah Jazz  2000-01  0.646   97.1  47.1  75.2   \n",
       "564  Vancouver Grizzlies  2000-01  0.280   91.7  43.9  77.0   \n",
       "565   Washington Wizards  2000-01  0.232   93.2  43.9  75.9   \n",
       "\n",
       "     Personal Fouls +/-                  Team Season  \n",
       "0                  -6.0        2018-19 Atlanta Hawks  \n",
       "1                   4.4       2018-19 Boston Celtics  \n",
       "2                  -0.1        2018-19 Brooklyn Nets  \n",
       "3                  -1.1    2018-19 Charlotte Hornets  \n",
       "4                  -8.4        2018-19 Chicago Bulls  \n",
       "..                  ...                          ...  \n",
       "561                 0.0  2000-01 Seattle SuperSonics  \n",
       "562                 2.3      2000-01 Toronto Raptors  \n",
       "563                 4.7            2000-01 Utah Jazz  \n",
       "564                -5.7  2000-01 Vancouver Grizzlies  \n",
       "565                -6.7   2000-01 Washington Wizards  \n",
       "\n",
       "[566 rows x 8 columns]"
      ],
      "text/html": "<div>\n<style scoped>\n    .dataframe tbody tr th:only-of-type {\n        vertical-align: middle;\n    }\n\n    .dataframe tbody tr th {\n        vertical-align: top;\n    }\n\n    .dataframe thead th {\n        text-align: right;\n    }\n</style>\n<table border=\"1\" class=\"dataframe\">\n  <thead>\n    <tr style=\"text-align: right;\">\n      <th></th>\n      <th>TEAM</th>\n      <th>SEASON</th>\n      <th>WIN%</th>\n      <th>PTS</th>\n      <th>FG%</th>\n      <th>FT%</th>\n      <th>Personal Fouls +/-</th>\n      <th>Team Season</th>\n    </tr>\n  </thead>\n  <tbody>\n    <tr>\n      <th>0</th>\n      <td>Atlanta Hawks</td>\n      <td>2018-19</td>\n      <td>0.354</td>\n      <td>113.3</td>\n      <td>45.1</td>\n      <td>75.2</td>\n      <td>-6.0</td>\n      <td>2018-19 Atlanta Hawks</td>\n    </tr>\n    <tr>\n      <th>1</th>\n      <td>Boston Celtics</td>\n      <td>2018-19</td>\n      <td>0.598</td>\n      <td>112.4</td>\n      <td>46.5</td>\n      <td>80.2</td>\n      <td>4.4</td>\n      <td>2018-19 Boston Celtics</td>\n    </tr>\n    <tr>\n      <th>2</th>\n      <td>Brooklyn Nets</td>\n      <td>2018-19</td>\n      <td>0.512</td>\n      <td>112.2</td>\n      <td>44.9</td>\n      <td>74.5</td>\n      <td>-0.1</td>\n      <td>2018-19 Brooklyn Nets</td>\n    </tr>\n    <tr>\n      <th>3</th>\n      <td>Charlotte Hornets</td>\n      <td>2018-19</td>\n      <td>0.476</td>\n      <td>110.7</td>\n      <td>44.8</td>\n      <td>79.7</td>\n      <td>-1.1</td>\n      <td>2018-19 Charlotte Hornets</td>\n    </tr>\n    <tr>\n      <th>4</th>\n      <td>Chicago Bulls</td>\n      <td>2018-19</td>\n      <td>0.268</td>\n      <td>104.9</td>\n      <td>45.3</td>\n      <td>78.3</td>\n      <td>-8.4</td>\n      <td>2018-19 Chicago Bulls</td>\n    </tr>\n    <tr>\n      <th>...</th>\n      <td>...</td>\n      <td>...</td>\n      <td>...</td>\n      <td>...</td>\n      <td>...</td>\n      <td>...</td>\n      <td>...</td>\n      <td>...</td>\n    </tr>\n    <tr>\n      <th>561</th>\n      <td>Seattle SuperSonics</td>\n      <td>2000-01</td>\n      <td>0.537</td>\n      <td>97.3</td>\n      <td>45.6</td>\n      <td>73.2</td>\n      <td>0.0</td>\n      <td>2000-01 Seattle SuperSonics</td>\n    </tr>\n    <tr>\n      <th>562</th>\n      <td>Toronto Raptors</td>\n      <td>2000-01</td>\n      <td>0.573</td>\n      <td>97.6</td>\n      <td>43.7</td>\n      <td>74.7</td>\n      <td>2.3</td>\n      <td>2000-01 Toronto Raptors</td>\n    </tr>\n    <tr>\n      <th>563</th>\n      <td>Utah Jazz</td>\n      <td>2000-01</td>\n      <td>0.646</td>\n      <td>97.1</td>\n      <td>47.1</td>\n      <td>75.2</td>\n      <td>4.7</td>\n      <td>2000-01 Utah Jazz</td>\n    </tr>\n    <tr>\n      <th>564</th>\n      <td>Vancouver Grizzlies</td>\n      <td>2000-01</td>\n      <td>0.280</td>\n      <td>91.7</td>\n      <td>43.9</td>\n      <td>77.0</td>\n      <td>-5.7</td>\n      <td>2000-01 Vancouver Grizzlies</td>\n    </tr>\n    <tr>\n      <th>565</th>\n      <td>Washington Wizards</td>\n      <td>2000-01</td>\n      <td>0.232</td>\n      <td>93.2</td>\n      <td>43.9</td>\n      <td>75.9</td>\n      <td>-6.7</td>\n      <td>2000-01 Washington Wizards</td>\n    </tr>\n  </tbody>\n</table>\n<p>566 rows × 8 columns</p>\n</div>"
     },
     "metadata": {},
     "execution_count": 56
    }
   ],
   "source": [
    "#Combining Team and Season to create new Primary Key. This will also be the primary key of the Injuries data. \n",
    "new_team_df[\"Team Season\"] = new_team_df[\"SEASON\"].astype(str) + \" \" + new_team_df[\"TEAM\"]\n",
    "new_team_df"
   ]
  },
  {
   "cell_type": "code",
   "execution_count": 57,
   "metadata": {},
   "outputs": [],
   "source": [
    "#Export to csv\n",
    "new_team_df.to_csv(r'Output/NBA_Team_Stats.csv', index = False)"
   ]
  }
 ],
 "metadata": {
  "kernelspec": {
   "display_name": "Python 3",
   "language": "python",
   "name": "python3"
  },
  "language_info": {
   "codemirror_mode": {
    "name": "ipython",
    "version": 3
   },
   "file_extension": ".py",
   "mimetype": "text/x-python",
   "name": "python",
   "nbconvert_exporter": "python",
   "pygments_lexer": "ipython3",
   "version": "3.8.3-final"
  }
 },
 "nbformat": 4,
 "nbformat_minor": 4
}